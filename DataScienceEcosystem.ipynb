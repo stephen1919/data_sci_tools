{
  "metadata": {
    "language_info": {
      "codemirror_mode": {
        "name": "python",
        "version": 3
      },
      "file_extension": ".py",
      "mimetype": "text/x-python",
      "name": "python",
      "nbconvert_exporter": "python",
      "pygments_lexer": "ipython3",
      "version": "3.8"
    },
    "kernelspec": {
      "name": "python",
      "display_name": "Python (Pyodide)",
      "language": "python"
    }
  },
  "nbformat_minor": 4,
  "nbformat": 4,
  "cells": [
    {
      "cell_type": "markdown",
      "source": "# Data Science Tools and Ecosystem",
      "metadata": {}
    },
    {
      "cell_type": "markdown",
      "source": "## In notebook, we will be discussing what data science tools can be used to aid in our understanding of any given ecosystem.",
      "metadata": {}
    },
    {
      "cell_type": "markdown",
      "source": "## **Objectives:**\n* list popular data science languages\n* list commonly used libraries in data science (for Python and R)\n* create a table of open source data science tools ",
      "metadata": {}
    },
    {
      "cell_type": "markdown",
      "source": "## Some of the popular languages that data scientists use are:\n### 1. Python \n### 2. R \n### 3. SQL ",
      "metadata": {}
    },
    {
      "cell_type": "markdown",
      "source": "## Some of the commonly used libraries used by Data Scientists include:\n### 1. NumPy: For numerical computing with arrays and matrices. (python)\n### 2. Pandas: For data manipulation and analysis, providing data structures like DataFrame. (python)\n### 3. dplyr: For data manipulation and transformation. (R)\n### 4. ggplot2: For creating static and dynamic data visualizations. (R)",
      "metadata": {}
    },
    {
      "cell_type": "markdown",
      "source": "| Data Science Tools |\n| - |\n| Jupyter Notebooks |\n| RStudio |\n| Visual Studio Code |\n",
      "metadata": {}
    },
    {
      "cell_type": "markdown",
      "source": "### Below are a few examples of evaluating arithmetic expressions in Python\n#### Addition:\n##### result = 5 + 3\n#### Complex Expression\n##### x = 10\n##### y = 3\n##### result = (x * 2) / (y ** 2)",
      "metadata": {}
    },
    {
      "cell_type": "markdown",
      "source": "### This a simple arithmetic expression to mutiply then add integers",
      "metadata": {}
    },
    {
      "cell_type": "code",
      "source": "(3*4)+5",
      "metadata": {
        "trusted": true
      },
      "execution_count": 2,
      "outputs": [
        {
          "execution_count": 2,
          "output_type": "execute_result",
          "data": {
            "text/plain": "17"
          },
          "metadata": {}
        }
      ]
    },
    {
      "cell_type": "markdown",
      "source": "### This will convert 200 minutes to hours by diving by 60",
      "metadata": {}
    },
    {
      "cell_type": "code",
      "source": "def how_many_hours(i):\n    minutes = i\n    hours = minutes/60\n    return hours\nprint(how_many_hours(200))",
      "metadata": {
        "trusted": true
      },
      "execution_count": 3,
      "outputs": [
        {
          "name": "stdout",
          "text": "3.3333333333333335\n",
          "output_type": "stream"
        }
      ]
    },
    {
      "cell_type": "markdown",
      "source": "## Author\nStephen",
      "metadata": {}
    }
  ]
}